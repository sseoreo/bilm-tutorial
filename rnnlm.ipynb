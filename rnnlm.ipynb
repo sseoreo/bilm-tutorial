{
 "cells": [
  {
   "cell_type": "markdown",
   "metadata": {},
   "source": [
    "# Language Model"
   ]
  },
  {
   "cell_type": "code",
   "execution_count": 1,
   "metadata": {},
   "outputs": [],
   "source": [
    "import math\n",
    "import torch\n",
    "import torch.nn as nn\n",
    "import torch.nn.functional as F\n",
    "from dataset import LMDataset\n",
    "from vocab import Vocab\n",
    "    "
   ]
  },
  {
   "cell_type": "code",
   "execution_count": 2,
   "metadata": {},
   "outputs": [],
   "source": [
    "data_dir = \"ptb\"\n",
    "epochs = 20\n",
    "batch_length = 16\n",
    "batch_size = 8\n",
    "lr = 0.001\n",
    "\n",
    "n_layers = 2\n",
    "d_emb = 200\n",
    "d_hid = 250\n",
    "p_drop = 0.2\n",
    "\n",
    "interval_print = 200\n",
    "device = torch.device(\"cuda\" if torch.cuda.is_available() else \"cpu\")\n"
   ]
  },
  {
   "cell_type": "markdown",
   "metadata": {},
   "source": [
    "# Load Dataset\n"
   ]
  },
  {
   "cell_type": "code",
   "execution_count": 3,
   "metadata": {},
   "outputs": [
    {
     "name": "stdout",
     "output_type": "stream",
     "text": [
      "building vocab...\n"
     ]
    },
    {
     "name": "stderr",
     "output_type": "stream",
     "text": [
      "100%|██████████| 42068/42068 [00:00<00:00, 185002.14it/s]\n"
     ]
    },
    {
     "name": "stdout",
     "output_type": "stream",
     "text": [
      "[('the', 50770), ('<unk>', 45020), ('N', 32481), ('of', 24400), ('to', 23638), ('a', 21196), ('in', 18000), ('and', 17474), (\"'s\", 9784), ('that', 8931)]\n",
      "end building vocab ...\n",
      "['<pad>', '<eos>', 'the', '<unk>', 'N', 'of', 'to', 'a', 'in', 'and']\n",
      "binarizing data ...\n"
     ]
    },
    {
     "name": "stderr",
     "output_type": "stream",
     "text": [
      "100%|██████████| 42068/42068 [00:00<00:00, 69148.38it/s]\n"
     ]
    },
    {
     "name": "stdout",
     "output_type": "stream",
     "text": [
      "binarizing data ...\n"
     ]
    },
    {
     "name": "stderr",
     "output_type": "stream",
     "text": [
      "100%|██████████| 3370/3370 [00:00<00:00, 76796.63it/s]\n"
     ]
    }
   ],
   "source": [
    "vocab = Vocab(data_dir)\n",
    "trainset = LMDataset(data_dir, vocab, batch_size, 'train')\n",
    "validset = LMDataset(data_dir, vocab, batch_size, 'valid')\n",
    "trainloader = torch.utils.data.DataLoader(trainset, batch_size=batch_length)\n",
    "validloader = torch.utils.data.DataLoader(validset, batch_size=batch_length)\n"
   ]
  },
  {
   "cell_type": "markdown",
   "metadata": {},
   "source": [
    "# Model"
   ]
  },
  {
   "cell_type": "code",
   "execution_count": 4,
   "metadata": {},
   "outputs": [],
   "source": [
    "class WordEmbedding(nn.Module):\n",
    "    def __init__(self, num_embeddomgs, embedding_dim, p_drop=0.):\n",
    "        super(WordEmbedding, self).__init__()\n",
    "        self.emb = nn.Embedding(num_embeddomgs, embedding_dim)\n",
    "        self.dropout = nn.Dropout(p_drop)\n",
    "\n",
    "    def forward(self, input):\n",
    "        output = self.emb(input)\n",
    "        output = self.dropout(output)\n",
    "        return output         \n",
    "\n",
    "class RNNLM(nn.Module):\n",
    "    def __init__(self, vocab_size, embedding_dim, hidden_dim, n_layers, p_drop):\n",
    "        super(RNNLM, self).__init__()\n",
    "        self.n_classes = vocab_size\n",
    "        self.d_emb = embedding_dim\n",
    "\n",
    "\n",
    "        self.word_embedding = WordEmbedding(self.n_classes, self.d_emb, p_drop=p_drop)\n",
    "        self.layers = nn.GRU(self.d_emb, hidden_dim, n_layers, dropout=p_drop, batch_first=True)\n",
    "        self.proj_layer = nn.Linear(hidden_dim, self.n_classes)\n",
    "        \n",
    "        self.drop = nn.Dropout(p_drop)\n",
    "        # self.layer2 = nn.GRU(hidden_dim, self.n_classes)\n",
    "\n",
    "    def forward(self, input):\n",
    "        emb = self.word_embedding(input)\n",
    "        output, h = self.layers(emb)\n",
    "        output = self.drop(output)\n",
    "        output = self.proj_layer(output)\n",
    "        return output\n",
    "\n",
    "model = RNNLM(vocab_size=vocab.size, embedding_dim=d_emb, hidden_dim=d_hid, n_layers=n_layers, p_drop=p_drop)\n",
    "model.to(device)\n",
    "optimizer = torch.optim.AdamW(model.parameters(),\n",
    "                  lr = lr, # config.learning_rate - default is 5e-5, our notebook had 2e-5\n",
    "                  eps = 1e-8 # config.adam_epsilon  - default is 1e-8.\n",
    "                  )\n",
    "\n"
   ]
  },
  {
   "cell_type": "code",
   "execution_count": 5,
   "metadata": {},
   "outputs": [],
   "source": [
    "\n",
    "n_iter, train_loss, valid_loss, best_ppl = 0, 0., 0., float('inf')\n",
    "for ep in range(epochs):\n",
    "    print(f\"[{ep}/{epochs}] epochs training...\")\n",
    "    \n",
    "    # train\n",
    "    model.train()\n",
    "    for batch in trainloader:\n",
    "        n_iter += 1\n",
    "        batch = batch.transpose(1, 0).contiguous().to(device)\n",
    "        \n",
    "        target = batch[:, 1:].clone()\n",
    "        logits = model(batch[:, :-1])\n",
    "        loss = F.cross_entropy(logits.reshape(-1, vocab.size), target.reshape(-1))\n",
    "\n",
    "        optimizer.zero_grad()\n",
    "        loss.backward()\n",
    "        optimizer.step()\n",
    "        train_loss += loss.item()\n",
    "\n",
    "        if n_iter % interval_print == 0:\n",
    "            train_loss /= interval_print\n",
    "            train_ppl = math.exp(train_loss)\n",
    "            print(f\"n_iter:{n_iter} loss: {train_loss:0.3f} ppl: {train_ppl:0.3f}\")\n",
    "            train_loss = 0\n",
    "    \n",
    "    model.eval()\n",
    "    for step, batch in enumerate(validloader, 1):\n",
    "        batch = batch.transpose(1, 0).to(device)\n",
    "        with torch.no_grad():\n",
    "            target = batch[:, 1:].clone()\n",
    "            logits = model(batch[:, :-1])\n",
    "            loss = F.cross_entropy(logits.reshape(-1, vocab.size), target.reshape(-1))\n",
    "            valid_loss += loss.item()\n",
    "    valid_loss = valid_loss/step\n",
    "    valid_ppl = math.exp(valid_loss)\n",
    "\n",
    "    if valid_ppl < best_ppl:\n",
    "        best_ppl = valid_ppl\n",
    "        torch.save(model, \"rnnlm-best.pth\")\n",
    "        print(\"### find best mode ###\", best_ppl)\n",
    "\n",
    "    print(f\"validation vloss: {valid_loss:0.3f} vppl: {valid_ppl:0.3f}, best ppl: {best_ppl:0.3f}\")\n",
    "\n",
    "\n",
    "\n",
    "\n"
   ]
  },
  {
   "cell_type": "code",
   "execution_count": 6,
   "metadata": {},
   "outputs": [],
   "source": [
    "best_model = torch.load('./rnnlm-best.pth')\n",
    "warmup = \"I have watched this\".lower()\n",
    "inputs = torch.tensor([vocab.encode_line(warmup, add_eos=False)]).to(device)\n",
    "logits = F.softmax(model(inputs), dim=-1)\n"
   ]
  },
  {
   "cell_type": "code",
   "execution_count": null,
   "metadata": {},
   "outputs": [],
   "source": []
  },
  {
   "cell_type": "code",
   "execution_count": null,
   "metadata": {},
   "outputs": [],
   "source": []
  }
 ],
 "metadata": {
  "interpreter": {
   "hash": "e235b1f40ab561dc697a518ea04835f082f50dd8c1dee948e78ceb42cbdb5e37"
  },
  "kernelspec": {
   "display_name": "Python 3.9.7 ('base')",
   "language": "python",
   "name": "python3"
  },
  "language_info": {
   "codemirror_mode": {
    "name": "ipython",
    "version": 3
   },
   "file_extension": ".py",
   "mimetype": "text/x-python",
   "name": "python",
   "nbconvert_exporter": "python",
   "pygments_lexer": "ipython3",
   "version": "3.9.7"
  },
  "orig_nbformat": 4
 },
 "nbformat": 4,
 "nbformat_minor": 2
}
