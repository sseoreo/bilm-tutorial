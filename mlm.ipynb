{
 "cells": [
  {
   "cell_type": "markdown",
   "metadata": {},
   "source": [
    "# Mask Language Model"
   ]
  },
  {
   "cell_type": "code",
   "execution_count": 1,
   "metadata": {},
   "outputs": [],
   "source": [
    "import math\n",
    "import torch\n",
    "import torch.nn as nn\n",
    "import torch.nn.functional as F\n",
    "from dataset import BERTLanguageModelingDataset\n",
    "from vocab import Vocab\n",
    "    "
   ]
  },
  {
   "cell_type": "code",
   "execution_count": 2,
   "metadata": {},
   "outputs": [],
   "source": [
    "data_dir = \"ptb\"\n",
    "epochs = 10\n",
    "batch_length = 32\n",
    "batch_size = 16\n",
    "lr = 0.001\n",
    "\n",
    "n_layers = 1\n",
    "d_emb = 200\n",
    "d_hid = 250\n",
    "p_drop = 0.2\n",
    "\n",
    "interval_print = 100\n",
    "device = torch.device(\"cuda\" if torch.cuda.is_available() else \"cpu\")\n"
   ]
  },
  {
   "cell_type": "markdown",
   "metadata": {},
   "source": [
    "# Load Dataset\n"
   ]
  },
  {
   "cell_type": "code",
   "execution_count": 3,
   "metadata": {},
   "outputs": [
    {
     "name": "stdout",
     "output_type": "stream",
     "text": [
      "building vocab...\n"
     ]
    },
    {
     "name": "stderr",
     "output_type": "stream",
     "text": [
      "100%|██████████| 42068/42068 [00:00<00:00, 117222.17it/s]\n"
     ]
    },
    {
     "name": "stdout",
     "output_type": "stream",
     "text": [
      "[('the', 50770), ('<unk>', 45020), ('N', 32481), ('of', 24400), ('to', 23638), ('a', 21196), ('in', 18000), ('and', 17474), (\"'s\", 9784), ('that', 8931)]\n",
      "end building vocab ...\n",
      "['<mask>', '<pad>', '<eos>', 'the', '<unk>', 'N', 'of', 'to', 'a', 'in']\n"
     ]
    }
   ],
   "source": [
    "vocab = Vocab(data_dir, mask_token='<mask>')\n",
    "trainset = BERTLanguageModelingDataset(data_dir, vocab, seq_len=batch_length, split='train')\n",
    "validset = BERTLanguageModelingDataset(data_dir, vocab, seq_len=batch_length, split='valid')\n",
    "trainloader = torch.utils.data.DataLoader(trainset, batch_size=batch_size)\n",
    "validloader = torch.utils.data.DataLoader(validset, batch_size=batch_size)\n"
   ]
  },
  {
   "cell_type": "markdown",
   "metadata": {},
   "source": [
    "# Model"
   ]
  },
  {
   "cell_type": "code",
   "execution_count": 4,
   "metadata": {},
   "outputs": [
    {
     "name": "stderr",
     "output_type": "stream",
     "text": [
      "/usr/local/lib/python3.8/site-packages/torch/nn/modules/rnn.py:62: UserWarning: dropout option adds dropout after all but last recurrent layer, so non-zero dropout expects num_layers greater than 1, but got dropout=0.2 and num_layers=1\n",
      "  warnings.warn(\"dropout option adds dropout after all but last \"\n"
     ]
    }
   ],
   "source": [
    "class WordEmbedding(nn.Module):\n",
    "    def __init__(self, num_embeddomgs, embedding_dim, p_drop=0.):\n",
    "        super(WordEmbedding, self).__init__()\n",
    "        self.emb = nn.Embedding(num_embeddomgs, embedding_dim)\n",
    "        self.dropout = nn.Dropout(p_drop)\n",
    "\n",
    "    def forward(self, input):\n",
    "        output = self.emb(input)\n",
    "        output = self.dropout(output)\n",
    "        return output         \n",
    "\n",
    "class MLM(nn.Module):\n",
    "    def __init__(self, vocab_size, embedding_dim, hidden_dim, n_layers, p_drop):\n",
    "        super(MLM, self).__init__()\n",
    "        self.n_classes = vocab_size\n",
    "        self.d_emb = embedding_dim\n",
    "\n",
    "\n",
    "        self.word_embedding = WordEmbedding(self.n_classes, self.d_emb, p_drop=p_drop)\n",
    "        self.layers = nn.GRU(self.d_emb, hidden_dim, n_layers, dropout=p_drop, batch_first=True, bidirectional=True)\n",
    "        self.proj_layer = nn.Linear(hidden_dim*2, self.n_classes)\n",
    "        \n",
    "        self.drop = nn.Dropout(p_drop)\n",
    "        # self.layer2 = nn.GRU(hidden_dim, self.n_classes)\n",
    "\n",
    "    def forward(self, input):\n",
    "        emb = self.word_embedding(input)\n",
    "        \n",
    "        # (bsz, len_step, h_dim)()\n",
    "        output, h = self.layers(emb)\n",
    "\n",
    "        output = self.drop(output)\n",
    "        \n",
    "        output = self.proj_layer(output)\n",
    "        return output\n",
    "\n",
    "class BidirectionalLM(nn.Module):\n",
    "    def __init__(self, vocab_size, embedding_dim, hidden_dim, n_layers, p_drop):\n",
    "        super(BidirectionalLM, self).__init__()\n",
    "        self.n_classes = vocab_size\n",
    "        self.d_emb = embedding_dim\n",
    "        self.hidden_dim = hidden_dim\n",
    "\n",
    "\n",
    "        self.word_embedding = WordEmbedding(self.n_classes, self.d_emb, p_drop=p_drop)\n",
    "        # self.layers = nn.GRU(self.d_emb, hidden_dim, n_layers, dropout=p_drop, batch_first=True, bidirectional=True)\n",
    "        \n",
    "        self.forward_layers = nn.GRU(self.d_emb, hidden_dim, n_layers, dropout=p_drop, batch_first=True, bidirectional=False)\n",
    "        self.backward_layers = nn.GRU(self.d_emb, hidden_dim, n_layers, dropout=p_drop, batch_first=True, bidirectional=False)\n",
    "\n",
    "\n",
    "        self.proj_layer = nn.Linear(hidden_dim*2, self.n_classes)\n",
    "        \n",
    "        self.drop = nn.Dropout(p_drop)\n",
    "        # self.layer2 = nn.GRU(hidden_dim, self.n_classes)\n",
    "\n",
    "    def forward(self, input):\n",
    "        # print(vocab.decode_tokids(input[0, :-2]), \"@@\",vocab.decode_tokids(input[0, 2:]))\n",
    "        \n",
    "        emb = self.word_embedding(input)\n",
    "        # (bsz, len_step, h_dim)()\n",
    "        # output, h = self.layers(emb)\n",
    "        # forward_output, backward_output = output[:, :-2, :self.hidden_dim], output[:, 2:, self.hidden_dim:]\n",
    "        forward_output, _ = self.forward_layers(emb[:, :-2])\n",
    "        backward_output, _ = self.backward_layers(torch.flip(emb[:, 2:], dims =[-1]))\n",
    "        # print(torch.flip(backward_output, dims =[-1]).shape)\n",
    "        staggered_output = torch.cat((forward_output, torch.flip(backward_output, dims =[1])), dim=-1)\n",
    "        # print(output.shape, staggered_output.shape)\n",
    "        output = self.drop(staggered_output)\n",
    "        # print(output.shape)\n",
    "\n",
    "        output = self.proj_layer(output)\n",
    "        return output\n",
    "\n",
    "model = BidirectionalLM(vocab_size=vocab.size, embedding_dim=d_emb, hidden_dim=d_hid, n_layers=n_layers, p_drop=p_drop)\n",
    "model.to(device)\n",
    "optimizer = torch.optim.AdamW(model.parameters(),\n",
    "                  lr = lr, # config.learning_rate - default is 5e-5, our notebook had 2e-5\n",
    "                  eps = 1e-8 # config.adam_epsilon  - default is 1e-8.\n",
    "                  )\n"
   ]
  },
  {
   "cell_type": "code",
   "execution_count": 5,
   "metadata": {},
   "outputs": [
    {
     "name": "stdout",
     "output_type": "stream",
     "text": [
      "[0/10] epochs training...\n",
      "n_iter:100 loss: 7.111 ppl: 1225.477\n",
      "n_iter:200 loss: 6.447 ppl: 630.773\n",
      "n_iter:300 loss: 6.027 ppl: 414.648\n",
      "n_iter:400 loss: 6.041 ppl: 420.258\n",
      "n_iter:500 loss: 5.733 ppl: 309.020\n",
      "n_iter:600 loss: 5.846 ppl: 345.880\n",
      "n_iter:700 loss: 5.675 ppl: 291.390\n",
      "n_iter:800 loss: 5.539 ppl: 254.375\n",
      "n_iter:900 loss: 5.467 ppl: 236.697\n",
      "n_iter:1000 loss: 5.488 ppl: 241.832\n",
      "n_iter:1100 loss: 5.348 ppl: 210.105\n",
      "n_iter:1200 loss: 5.252 ppl: 191.003\n",
      "n_iter:1300 loss: 5.200 ppl: 181.309\n",
      "n_iter:1400 loss: 5.146 ppl: 171.700\n",
      "n_iter:1500 loss: 5.095 ppl: 163.270\n",
      "n_iter:1600 loss: 4.930 ppl: 138.397\n",
      "n_iter:1700 loss: 5.064 ppl: 158.262\n",
      "n_iter:1800 loss: 5.012 ppl: 150.222\n",
      "n_iter:1900 loss: 4.964 ppl: 143.217\n",
      "n_iter:2000 loss: 5.105 ppl: 164.836\n",
      "n_iter:2100 loss: 4.833 ppl: 125.640\n",
      "n_iter:2200 loss: 4.840 ppl: 126.460\n",
      "n_iter:2300 loss: 4.907 ppl: 135.178\n",
      "n_iter:2400 loss: 4.730 ppl: 113.307\n",
      "n_iter:2500 loss: 4.704 ppl: 110.375\n",
      "n_iter:2600 loss: 4.804 ppl: 121.986\n",
      "### find best mode ### 94.11168494972209\n",
      "validation vloss: 4.544 vppl: 94.112, best ppl: 94.112\n",
      "[1/10] epochs training...\n",
      "n_iter:2700 loss: 4.771 ppl: 117.999\n",
      "n_iter:2800 loss: 4.787 ppl: 119.979\n",
      "n_iter:2900 loss: 4.314 ppl: 74.754\n",
      "n_iter:3000 loss: 4.661 ppl: 105.764\n",
      "n_iter:3100 loss: 4.307 ppl: 74.190\n",
      "n_iter:3200 loss: 4.612 ppl: 100.680\n",
      "n_iter:3300 loss: 4.497 ppl: 89.782\n",
      "n_iter:3400 loss: 4.437 ppl: 84.533\n",
      "n_iter:3500 loss: 4.251 ppl: 70.159\n",
      "n_iter:3600 loss: 4.552 ppl: 94.795\n",
      "n_iter:3700 loss: 4.333 ppl: 76.181\n",
      "n_iter:3800 loss: 4.331 ppl: 76.051\n",
      "n_iter:3900 loss: 4.223 ppl: 68.264\n",
      "n_iter:4000 loss: 4.224 ppl: 68.334\n",
      "n_iter:4100 loss: 4.046 ppl: 57.160\n",
      "n_iter:4200 loss: 4.224 ppl: 68.299\n",
      "n_iter:4300 loss: 4.096 ppl: 60.092\n",
      "n_iter:4400 loss: 4.272 ppl: 71.672\n",
      "n_iter:4500 loss: 4.073 ppl: 58.757\n"
     ]
    }
   ],
   "source": [
    "\n",
    "n_iter, train_loss, best_ppl = 0, 0., float('inf')\n",
    "for ep in range(epochs):\n",
    "    print(f\"[{ep}/{epochs}] epochs training...\")\n",
    "    \n",
    "    # train\n",
    "    model.train()\n",
    "    for (mlm_train, mlm_target) in trainloader:\n",
    "        n_iter += 1\n",
    "        mlm_train = mlm_train.to(device)\n",
    "        # print(mlm_train[0], vocab.padding_idx)\n",
    "        mlm_target = mlm_train[:, 1:-1].contiguous().to(device)\n",
    "        # print(mlm_train.size(), vocab.decode_tokids(mlm_target[0]))\n",
    "        logits = model(mlm_train)\n",
    "        # print(logits.shape, mlm_target.shape)\n",
    "        loss = F.cross_entropy(logits.reshape(-1, vocab.size), mlm_target.reshape(-1), ignore_index=vocab.padding_idx)\n",
    "        \n",
    "        optimizer.zero_grad()\n",
    "        loss.backward()\n",
    "        optimizer.step()\n",
    "        train_loss += loss.item()\n",
    "\n",
    "        if n_iter % interval_print == 0:\n",
    "            train_loss /= interval_print\n",
    "            train_ppl = math.exp(train_loss)\n",
    "            print(f\"n_iter:{n_iter} loss: {train_loss:0.3f} ppl: {train_ppl:0.3f}\")\n",
    "            train_loss = 0\n",
    "            \n",
    "    \n",
    "    model.eval()\n",
    "    valid_loss = 0.\n",
    "    for mlm_train, mlm_target in validloader:\n",
    "        mlm_train = mlm_train.to(device)\n",
    "        mlm_target = mlm_train[:, 1:-1].contiguous().to(device)\n",
    "        \n",
    "        # mlm_target = mlm_target.to(device)\n",
    "\n",
    "        with torch.no_grad():\n",
    "\n",
    "            logits = model(mlm_train)\n",
    "            loss = F.cross_entropy(logits.reshape(-1, vocab.size), mlm_target.reshape(-1), ignore_index=vocab.padding_idx)\n",
    "            valid_loss += loss.item()\n",
    "            \n",
    "        \n",
    "    valid_loss = valid_loss/len(validloader)\n",
    "    valid_ppl = math.exp(valid_loss)\n",
    "        \n",
    "\n",
    "    if valid_ppl < best_ppl:\n",
    "        best_ppl = valid_ppl\n",
    "        torch.save(model, \"mlm-best.pth\")\n",
    "        print(\"### find best mode ###\", best_ppl)\n",
    "\n",
    "    print(f\"validation vloss: {valid_loss:0.3f} vppl: {valid_ppl:0.3f}, best ppl: {best_ppl:0.3f}\")\n",
    "\n",
    "\n",
    "   \n",
    "\n"
   ]
  },
  {
   "cell_type": "code",
   "execution_count": 11,
   "metadata": {},
   "outputs": [
    {
     "name": "stdout",
     "output_type": "stream",
     "text": [
      "(tensor([0], device='cuda:0'), tensor([1], device='cuda:0'))\n",
      "tensor([[  2,   0, 113, 108, 124,   3]], device='cuda:0') (tensor([0], device='cuda:0'), tensor([1], device='cuda:0'))\n",
      "0th 'predicted word (prob.)': you (0.087)\n",
      "0th 'complete sentence': you you so much\n",
      "1th 'predicted word (prob.)': officials (0.034)\n",
      "1th 'complete sentence': officials you so much\n",
      "2th 'predicted word (prob.)': is (0.028)\n",
      "2th 'complete sentence': is you so much\n",
      "3th 'predicted word (prob.)': so (0.026)\n",
      "3th 'complete sentence': so you so much\n",
      "4th 'predicted word (prob.)': of (0.025)\n",
      "4th 'complete sentence': of you so much\n"
     ]
    }
   ],
   "source": [
    "# input_text = \"the u.s. is one of the few <mask> nations that does n't have a higher standard of regulation\"\n",
    "# input_text = \"viewers can call a N number for additional advice\"\n",
    "input_text = \"i <mask> you so much\"\n",
    "k = 5\n",
    "model.eval()\n",
    "mask_ind = input_text.split(\" \").index(\"<mask>\") -1 \n",
    "# mask_ind = 1\n",
    "\n",
    "mask_input = torch.tensor([vocab.encode_line(input_text, add_eos=True)]).to(device)\n",
    "# mask_ind = torch.where(mask_input==vocab.mask_idx)\n",
    "print(mask_ind)\n",
    "mask_ind = torch.tensor([mask_ind]).to(device)\n",
    "\n",
    "# masked_input, masked_labels = trainset.get_masked_input_and_labels(seq)\n",
    "\n",
    "logits = F.softmax(model(mask_input), dim=-1)[:, mask_ind]\n",
    "top_k = torch.topk(logits, k)\n",
    "\n",
    "top_k_words = top_k.indices.flatten()\n",
    "top_k_probs = top_k.values.flatten()\n",
    "for i, (w, p) in enumerate(zip(top_k_words, top_k_probs)):\n",
    "    print(f\"{i}th 'predicted word (prob.)': {vocab.id2tok[w]} ({p:0.3f})\")\n",
    "    print(f\"{i}th 'complete sentence': {input_text.replace('<mask>', vocab.id2tok[w])}\"  )"
   ]
  },
  {
   "cell_type": "code",
   "execution_count": null,
   "metadata": {},
   "outputs": [],
   "source": []
  },
  {
   "cell_type": "code",
   "execution_count": null,
   "metadata": {},
   "outputs": [],
   "source": []
  }
 ],
 "metadata": {
  "interpreter": {
   "hash": "e235b1f40ab561dc697a518ea04835f082f50dd8c1dee948e78ceb42cbdb5e37"
  },
  "kernelspec": {
   "display_name": "Python 3.9.7 ('base')",
   "language": "python",
   "name": "python3"
  },
  "language_info": {
   "codemirror_mode": {
    "name": "ipython",
    "version": 3
   },
   "file_extension": ".py",
   "mimetype": "text/x-python",
   "name": "python",
   "nbconvert_exporter": "python",
   "pygments_lexer": "ipython3",
   "version": "3.8.0"
  },
  "orig_nbformat": 4
 },
 "nbformat": 4,
 "nbformat_minor": 2
}
