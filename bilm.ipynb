{
 "cells": [
  {
   "cell_type": "markdown",
   "metadata": {},
   "source": [
    "# Mask Language Model"
   ]
  },
  {
   "cell_type": "code",
   "execution_count": 1,
   "metadata": {},
   "outputs": [],
   "source": [
    "import math\n",
    "import torch\n",
    "import torch.nn as nn\n",
    "import torch.nn.functional as F\n",
    "from dataset import BiLMDataset\n",
    "from vocab import Vocab\n",
    "    "
   ]
  },
  {
   "cell_type": "code",
   "execution_count": 2,
   "metadata": {},
   "outputs": [],
   "source": [
    "data_dir = \"ptb\"\n",
    "epochs = 10\n",
    "batch_length = 32\n",
    "batch_size = 16\n",
    "lr = 0.001\n",
    "\n",
    "n_layers = 1\n",
    "d_emb = 200\n",
    "d_hid = 250\n",
    "p_drop = 0.2\n",
    "\n",
    "interval_print = 100\n",
    "device = torch.device(\"cuda\" if torch.cuda.is_available() else \"cpu\")\n"
   ]
  },
  {
   "cell_type": "markdown",
   "metadata": {},
   "source": [
    "# Load Dataset\n"
   ]
  },
  {
   "cell_type": "code",
   "execution_count": 3,
   "metadata": {},
   "outputs": [
    {
     "name": "stdout",
     "output_type": "stream",
     "text": [
      "building vocab...\n"
     ]
    },
    {
     "name": "stderr",
     "output_type": "stream",
     "text": [
      "100%|██████████| 42068/42068 [00:00<00:00, 119574.29it/s]"
     ]
    },
    {
     "name": "stdout",
     "output_type": "stream",
     "text": [
      "[('the', 50770), ('<unk>', 45020), ('N', 32481), ('of', 24400), ('to', 23638), ('a', 21196), ('in', 18000), ('and', 17474), (\"'s\", 9784), ('that', 8931)]\n",
      "end building vocab ...\n",
      "['<mask>', '<pad>', '<eos>', 'the', '<unk>', 'N', 'of', 'to', 'a', 'in']\n"
     ]
    },
    {
     "name": "stderr",
     "output_type": "stream",
     "text": [
      "\n"
     ]
    }
   ],
   "source": [
    "vocab = Vocab(data_dir, mask_token='<mask>')\n",
    "trainset = BiLMDataset(data_dir, vocab, seq_len=batch_length, split='train')\n",
    "validset = BiLMDataset(data_dir, vocab, seq_len=batch_length, split='valid')\n",
    "trainloader = torch.utils.data.DataLoader(trainset, batch_size=batch_size)\n",
    "validloader = torch.utils.data.DataLoader(validset, batch_size=batch_size)\n"
   ]
  },
  {
   "cell_type": "markdown",
   "metadata": {},
   "source": [
    "# Model"
   ]
  },
  {
   "cell_type": "code",
   "execution_count": 4,
   "metadata": {},
   "outputs": [
    {
     "name": "stderr",
     "output_type": "stream",
     "text": [
      "/usr/local/lib/python3.8/site-packages/torch/nn/modules/rnn.py:62: UserWarning: dropout option adds dropout after all but last recurrent layer, so non-zero dropout expects num_layers greater than 1, but got dropout=0.2 and num_layers=1\n",
      "  warnings.warn(\"dropout option adds dropout after all but last \"\n"
     ]
    }
   ],
   "source": [
    "class WordEmbedding(nn.Module):\n",
    "    def __init__(self, num_embeddomgs, embedding_dim, p_drop=0.):\n",
    "        super(WordEmbedding, self).__init__()\n",
    "        self.emb = nn.Embedding(num_embeddomgs, embedding_dim)\n",
    "        self.dropout = nn.Dropout(p_drop)\n",
    "\n",
    "    def forward(self, input):\n",
    "        output = self.emb(input)\n",
    "        output = self.dropout(output)\n",
    "        return output         \n",
    "\n",
    "\n",
    "class BidirectionalLM(nn.Module):\n",
    "    def __init__(self, vocab_size, embedding_dim, hidden_dim, n_layers, p_drop):\n",
    "        super(BidirectionalLM, self).__init__()\n",
    "        self.n_classes = vocab_size\n",
    "        self.d_emb = embedding_dim\n",
    "        self.hidden_dim = hidden_dim\n",
    "\n",
    "\n",
    "        self.word_embedding = WordEmbedding(self.n_classes, self.d_emb, p_drop=p_drop)\n",
    "        # self.layers = nn.GRU(self.d_emb, hidden_dim, n_layers, dropout=p_drop, batch_first=True, bidirectional=True)\n",
    "        \n",
    "        self.forward_layers = nn.GRU(self.d_emb, hidden_dim, n_layers, dropout=p_drop, batch_first=True, bidirectional=False)\n",
    "        self.backward_layers = nn.GRU(self.d_emb, hidden_dim, n_layers, dropout=p_drop, batch_first=True, bidirectional=False)\n",
    "\n",
    "\n",
    "        self.proj_layer = nn.Linear(hidden_dim*2, self.n_classes)\n",
    "        \n",
    "        self.drop = nn.Dropout(p_drop)\n",
    "        # self.layer2 = nn.GRU(hidden_dim, self.n_classes)\n",
    "\n",
    "    def forward(self, input):\n",
    "        # print(vocab.decode_tokids(input[0, :-2]), \"@@\",vocab.decode_tokids(input[0, 2:]))\n",
    "        \n",
    "        emb = self.word_embedding(input)\n",
    "        # (bsz, len_step, h_dim)()\n",
    "        # output, h = self.layers(emb)\n",
    "        # forward_output, backward_output = output[:, :-2, :self.hidden_dim], output[:, 2:, self.hidden_dim:]\n",
    "        forward_output, _ = self.forward_layers(emb[:, :-2])\n",
    "        backward_output, _ = self.backward_layers(torch.flip(emb[:, 2:], dims =[-1]))\n",
    "        # print(torch.flip(backward_output, dims =[-1]).shape)\n",
    "        staggered_output = torch.cat((forward_output, torch.flip(backward_output, dims =[1])), dim=-1)\n",
    "        # print(output.shape, staggered_output.shape)\n",
    "        output = self.drop(staggered_output)\n",
    "        # print(output.shape)\n",
    "\n",
    "        output = self.proj_layer(output)\n",
    "        return output\n",
    "\n",
    "model = BidirectionalLM(vocab_size=vocab.size, embedding_dim=d_emb, hidden_dim=d_hid, n_layers=n_layers, p_drop=p_drop)\n",
    "model.to(device)\n",
    "optimizer = torch.optim.AdamW(model.parameters(),\n",
    "                  lr = lr, # config.learning_rate - default is 5e-5, our notebook had 2e-5\n",
    "                  eps = 1e-8 # config.adam_epsilon  - default is 1e-8.\n",
    "                  )\n"
   ]
  },
  {
   "cell_type": "code",
   "execution_count": 7,
   "metadata": {},
   "outputs": [
    {
     "name": "stdout",
     "output_type": "stream",
     "text": [
      "[0/10] epochs training...\n",
      "n_iter:100 loss: 4.824 ppl: 124.436\n",
      "n_iter:200 loss: 4.671 ppl: 106.806\n",
      "n_iter:300 loss: 4.424 ppl: 83.434\n",
      "n_iter:400 loss: 4.666 ppl: 106.238\n",
      "n_iter:500 loss: 4.391 ppl: 80.747\n",
      "n_iter:600 loss: 4.594 ppl: 98.873\n",
      "n_iter:700 loss: 4.567 ppl: 96.234\n",
      "n_iter:800 loss: 4.380 ppl: 79.821\n",
      "n_iter:900 loss: 4.347 ppl: 77.235\n",
      "n_iter:1000 loss: 4.504 ppl: 90.402\n",
      "n_iter:1100 loss: 4.427 ppl: 83.702\n",
      "n_iter:1200 loss: 4.255 ppl: 70.486\n",
      "n_iter:1300 loss: 4.261 ppl: 70.847\n",
      "n_iter:1400 loss: 4.237 ppl: 69.180\n",
      "n_iter:1500 loss: 4.209 ppl: 67.280\n",
      "n_iter:1600 loss: 4.093 ppl: 59.940\n",
      "n_iter:1700 loss: 4.223 ppl: 68.265\n",
      "n_iter:1800 loss: 4.236 ppl: 69.106\n",
      "n_iter:1900 loss: 4.160 ppl: 64.096\n",
      "n_iter:2000 loss: 4.362 ppl: 78.391\n",
      "n_iter:2100 loss: 4.089 ppl: 59.685\n",
      "n_iter:2200 loss: 4.103 ppl: 60.514\n",
      "n_iter:2300 loss: 4.170 ppl: 64.732\n",
      "n_iter:2400 loss: 4.013 ppl: 55.321\n",
      "n_iter:2500 loss: 3.991 ppl: 54.119\n",
      "n_iter:2600 loss: 4.138 ppl: 62.704\n",
      "### find best mode ### 64.66740742149858\n",
      "validation vloss: 4.169 vppl: 64.667, best ppl: 64.667\n",
      "[1/10] epochs training...\n",
      "n_iter:2700 loss: 4.108 ppl: 60.808\n",
      "n_iter:2800 loss: 4.206 ppl: 67.070\n",
      "n_iter:2900 loss: 3.753 ppl: 42.654\n",
      "n_iter:3000 loss: 4.093 ppl: 59.927\n",
      "n_iter:3100 loss: 3.755 ppl: 42.729\n",
      "n_iter:3200 loss: 4.088 ppl: 59.633\n",
      "n_iter:3300 loss: 3.971 ppl: 53.024\n",
      "n_iter:3400 loss: 3.929 ppl: 50.848\n",
      "n_iter:3500 loss: 3.749 ppl: 42.466\n",
      "n_iter:3600 loss: 4.057 ppl: 57.809\n",
      "n_iter:3700 loss: 3.872 ppl: 48.028\n",
      "n_iter:3800 loss: 3.854 ppl: 47.174\n",
      "n_iter:3900 loss: 3.752 ppl: 42.586\n",
      "n_iter:4000 loss: 3.753 ppl: 42.666\n",
      "n_iter:4100 loss: 3.603 ppl: 36.707\n",
      "n_iter:4200 loss: 3.777 ppl: 43.705\n",
      "n_iter:4300 loss: 3.664 ppl: 39.029\n",
      "n_iter:4400 loss: 3.825 ppl: 45.854\n",
      "n_iter:4500 loss: 3.658 ppl: 38.781\n",
      "n_iter:4600 loss: 3.923 ppl: 50.543\n",
      "n_iter:4700 loss: 3.752 ppl: 42.607\n",
      "n_iter:4800 loss: 3.721 ppl: 41.314\n",
      "n_iter:4900 loss: 3.568 ppl: 35.439\n",
      "n_iter:5000 loss: 3.701 ppl: 40.476\n",
      "n_iter:5100 loss: 3.590 ppl: 36.250\n",
      "n_iter:5200 loss: 3.575 ppl: 35.700\n",
      "### find best mode ### 53.84037095960664\n",
      "validation vloss: 3.986 vppl: 53.840, best ppl: 53.840\n",
      "[2/10] epochs training...\n",
      "n_iter:5300 loss: 3.713 ppl: 40.994\n",
      "n_iter:5400 loss: 3.771 ppl: 43.427\n",
      "n_iter:5500 loss: 3.536 ppl: 34.316\n",
      "n_iter:5600 loss: 3.590 ppl: 36.218\n",
      "n_iter:5700 loss: 3.520 ppl: 33.778\n",
      "n_iter:5800 loss: 3.633 ppl: 37.813\n",
      "n_iter:5900 loss: 3.563 ppl: 35.256\n",
      "n_iter:6000 loss: 3.652 ppl: 38.537\n"
     ]
    },
    {
     "ename": "KeyboardInterrupt",
     "evalue": "",
     "output_type": "error",
     "traceback": [
      "\u001b[0;31m---------------------------------------------------------------------------\u001b[0m",
      "\u001b[0;31mKeyboardInterrupt\u001b[0m                         Traceback (most recent call last)",
      "\u001b[0;32m<ipython-input-7-e74c1d9402b1>\u001b[0m in \u001b[0;36m<module>\u001b[0;34m\u001b[0m\n\u001b[1;32m     16\u001b[0m \u001b[0;34m\u001b[0m\u001b[0m\n\u001b[1;32m     17\u001b[0m         \u001b[0moptimizer\u001b[0m\u001b[0;34m.\u001b[0m\u001b[0mzero_grad\u001b[0m\u001b[0;34m(\u001b[0m\u001b[0;34m)\u001b[0m\u001b[0;34m\u001b[0m\u001b[0;34m\u001b[0m\u001b[0m\n\u001b[0;32m---> 18\u001b[0;31m         \u001b[0mloss\u001b[0m\u001b[0;34m.\u001b[0m\u001b[0mbackward\u001b[0m\u001b[0;34m(\u001b[0m\u001b[0;34m)\u001b[0m\u001b[0;34m\u001b[0m\u001b[0;34m\u001b[0m\u001b[0m\n\u001b[0m\u001b[1;32m     19\u001b[0m         \u001b[0moptimizer\u001b[0m\u001b[0;34m.\u001b[0m\u001b[0mstep\u001b[0m\u001b[0;34m(\u001b[0m\u001b[0;34m)\u001b[0m\u001b[0;34m\u001b[0m\u001b[0;34m\u001b[0m\u001b[0m\n\u001b[1;32m     20\u001b[0m         \u001b[0mtrain_loss\u001b[0m \u001b[0;34m+=\u001b[0m \u001b[0mloss\u001b[0m\u001b[0;34m.\u001b[0m\u001b[0mitem\u001b[0m\u001b[0;34m(\u001b[0m\u001b[0;34m)\u001b[0m\u001b[0;34m\u001b[0m\u001b[0;34m\u001b[0m\u001b[0m\n",
      "\u001b[0;32m/usr/local/lib/python3.8/site-packages/torch/_tensor.py\u001b[0m in \u001b[0;36mbackward\u001b[0;34m(self, gradient, retain_graph, create_graph, inputs)\u001b[0m\n\u001b[1;32m    253\u001b[0m                 \u001b[0mcreate_graph\u001b[0m\u001b[0;34m=\u001b[0m\u001b[0mcreate_graph\u001b[0m\u001b[0;34m,\u001b[0m\u001b[0;34m\u001b[0m\u001b[0;34m\u001b[0m\u001b[0m\n\u001b[1;32m    254\u001b[0m                 inputs=inputs)\n\u001b[0;32m--> 255\u001b[0;31m         \u001b[0mtorch\u001b[0m\u001b[0;34m.\u001b[0m\u001b[0mautograd\u001b[0m\u001b[0;34m.\u001b[0m\u001b[0mbackward\u001b[0m\u001b[0;34m(\u001b[0m\u001b[0mself\u001b[0m\u001b[0;34m,\u001b[0m \u001b[0mgradient\u001b[0m\u001b[0;34m,\u001b[0m \u001b[0mretain_graph\u001b[0m\u001b[0;34m,\u001b[0m \u001b[0mcreate_graph\u001b[0m\u001b[0;34m,\u001b[0m \u001b[0minputs\u001b[0m\u001b[0;34m=\u001b[0m\u001b[0minputs\u001b[0m\u001b[0;34m)\u001b[0m\u001b[0;34m\u001b[0m\u001b[0;34m\u001b[0m\u001b[0m\n\u001b[0m\u001b[1;32m    256\u001b[0m \u001b[0;34m\u001b[0m\u001b[0m\n\u001b[1;32m    257\u001b[0m     \u001b[0;32mdef\u001b[0m \u001b[0mregister_hook\u001b[0m\u001b[0;34m(\u001b[0m\u001b[0mself\u001b[0m\u001b[0;34m,\u001b[0m \u001b[0mhook\u001b[0m\u001b[0;34m)\u001b[0m\u001b[0;34m:\u001b[0m\u001b[0;34m\u001b[0m\u001b[0;34m\u001b[0m\u001b[0m\n",
      "\u001b[0;32m/usr/local/lib/python3.8/site-packages/torch/autograd/__init__.py\u001b[0m in \u001b[0;36mbackward\u001b[0;34m(tensors, grad_tensors, retain_graph, create_graph, grad_variables, inputs)\u001b[0m\n\u001b[1;32m    145\u001b[0m         \u001b[0mretain_graph\u001b[0m \u001b[0;34m=\u001b[0m \u001b[0mcreate_graph\u001b[0m\u001b[0;34m\u001b[0m\u001b[0;34m\u001b[0m\u001b[0m\n\u001b[1;32m    146\u001b[0m \u001b[0;34m\u001b[0m\u001b[0m\n\u001b[0;32m--> 147\u001b[0;31m     Variable._execution_engine.run_backward(\n\u001b[0m\u001b[1;32m    148\u001b[0m         \u001b[0mtensors\u001b[0m\u001b[0;34m,\u001b[0m \u001b[0mgrad_tensors_\u001b[0m\u001b[0;34m,\u001b[0m \u001b[0mretain_graph\u001b[0m\u001b[0;34m,\u001b[0m \u001b[0mcreate_graph\u001b[0m\u001b[0;34m,\u001b[0m \u001b[0minputs\u001b[0m\u001b[0;34m,\u001b[0m\u001b[0;34m\u001b[0m\u001b[0;34m\u001b[0m\u001b[0m\n\u001b[1;32m    149\u001b[0m         allow_unreachable=True, accumulate_grad=True)  # allow_unreachable flag\n",
      "\u001b[0;31mKeyboardInterrupt\u001b[0m: "
     ]
    }
   ],
   "source": [
    "\n",
    "n_iter, train_loss, best_ppl = 0, 0., float('inf')\n",
    "for ep in range(epochs):\n",
    "    print(f\"[{ep}/{epochs}] epochs training...\")\n",
    "    \n",
    "    # train\n",
    "    model.train()\n",
    "    for batch in trainloader:\n",
    "        n_iter += 1\n",
    "        batch = batch.to(device)\n",
    "        # print(mlm_train[0], vocab.padding_idx)\n",
    "        target = batch[:, 1:-1].contiguous().to(device)\n",
    "        # print(mlm_train.size(), vocab.decode_tokids(mlm_target[0]))\n",
    "        logits = model(batch)\n",
    "        # print(logits.shape, mlm_target.shape)\n",
    "        loss = F.cross_entropy(logits.reshape(-1, vocab.size), target.reshape(-1), ignore_index=vocab.padding_idx)\n",
    "        \n",
    "        optimizer.zero_grad()\n",
    "        loss.backward()\n",
    "        optimizer.step()\n",
    "        train_loss += loss.item()\n",
    "\n",
    "        if n_iter % interval_print == 0:\n",
    "            train_loss /= interval_print\n",
    "            train_ppl = math.exp(train_loss)\n",
    "            print(f\"n_iter:{n_iter} loss: {train_loss:0.3f} ppl: {train_ppl:0.3f}\")\n",
    "            train_loss = 0\n",
    "            \n",
    "    \n",
    "    model.eval()\n",
    "    valid_loss = 0.\n",
    "    for batch in validloader:\n",
    "        batch = batch.to(device)\n",
    "        target = batch[:, 1:-1].contiguous().to(device)\n",
    "        \n",
    "        # mlm_target = mlm_target.to(device)\n",
    "\n",
    "        with torch.no_grad():\n",
    "\n",
    "            logits = model(batch)\n",
    "            loss = F.cross_entropy(logits.reshape(-1, vocab.size), target.reshape(-1), ignore_index=vocab.padding_idx)\n",
    "            valid_loss += loss.item()\n",
    "            \n",
    "        \n",
    "    valid_loss = valid_loss/len(validloader)\n",
    "    valid_ppl = math.exp(valid_loss)\n",
    "        \n",
    "\n",
    "    if valid_ppl < best_ppl:\n",
    "        best_ppl = valid_ppl\n",
    "        torch.save(model, \"mlm-best.pth\")\n",
    "        print(\"### find best mode ###\", best_ppl)\n",
    "\n",
    "    print(f\"validation vloss: {valid_loss:0.3f} vppl: {valid_ppl:0.3f}, best ppl: {best_ppl:0.3f}\")\n",
    "\n",
    "\n",
    "   \n",
    "\n"
   ]
  },
  {
   "cell_type": "code",
   "execution_count": 11,
   "metadata": {},
   "outputs": [
    {
     "name": "stdout",
     "output_type": "stream",
     "text": [
      "(tensor([0], device='cuda:0'), tensor([1], device='cuda:0'))\n",
      "tensor([[  2,   0, 113, 108, 124,   3]], device='cuda:0') (tensor([0], device='cuda:0'), tensor([1], device='cuda:0'))\n",
      "0th 'predicted word (prob.)': you (0.087)\n",
      "0th 'complete sentence': you you so much\n",
      "1th 'predicted word (prob.)': officials (0.034)\n",
      "1th 'complete sentence': officials you so much\n",
      "2th 'predicted word (prob.)': is (0.028)\n",
      "2th 'complete sentence': is you so much\n",
      "3th 'predicted word (prob.)': so (0.026)\n",
      "3th 'complete sentence': so you so much\n",
      "4th 'predicted word (prob.)': of (0.025)\n",
      "4th 'complete sentence': of you so much\n"
     ]
    }
   ],
   "source": [
    "# input_text = \"the u.s. is one of the few <mask> nations that does n't have a higher standard of regulation\"\n",
    "# input_text = \"viewers can call a N number for additional advice\"\n",
    "input_text = \"i <mask> you so much\"\n",
    "k = 5\n",
    "model.eval()\n",
    "mask_ind = input_text.split(\" \").index(\"<mask>\") -1 \n",
    "# mask_ind = 1\n",
    "\n",
    "mask_input = torch.tensor([vocab.encode_line(input_text, add_eos=True)]).to(device)\n",
    "# mask_ind = torch.where(mask_input==vocab.mask_idx)\n",
    "print(mask_ind)\n",
    "mask_ind = torch.tensor([mask_ind]).to(device)\n",
    "\n",
    "# masked_input, masked_labels = trainset.get_masked_input_and_labels(seq)\n",
    "\n",
    "logits = F.softmax(model(mask_input), dim=-1)[:, mask_ind]\n",
    "top_k = torch.topk(logits, k)\n",
    "\n",
    "top_k_words = top_k.indices.flatten()\n",
    "top_k_probs = top_k.values.flatten()\n",
    "for i, (w, p) in enumerate(zip(top_k_words, top_k_probs)):\n",
    "    print(f\"{i}th 'predicted word (prob.)': {vocab.id2tok[w]} ({p:0.3f})\")\n",
    "    print(f\"{i}th 'complete sentence': {input_text.replace('<mask>', vocab.id2tok[w])}\"  )"
   ]
  },
  {
   "cell_type": "code",
   "execution_count": null,
   "metadata": {},
   "outputs": [],
   "source": []
  },
  {
   "cell_type": "code",
   "execution_count": null,
   "metadata": {},
   "outputs": [],
   "source": []
  }
 ],
 "metadata": {
  "interpreter": {
   "hash": "e235b1f40ab561dc697a518ea04835f082f50dd8c1dee948e78ceb42cbdb5e37"
  },
  "kernelspec": {
   "display_name": "Python 3.9.7 ('base')",
   "language": "python",
   "name": "python3"
  },
  "language_info": {
   "codemirror_mode": {
    "name": "ipython",
    "version": 3
   },
   "file_extension": ".py",
   "mimetype": "text/x-python",
   "name": "python",
   "nbconvert_exporter": "python",
   "pygments_lexer": "ipython3",
   "version": "3.8.0"
  },
  "orig_nbformat": 4
 },
 "nbformat": 4,
 "nbformat_minor": 2
}
