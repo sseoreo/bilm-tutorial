{
 "cells": [
  {
   "cell_type": "markdown",
   "metadata": {},
   "source": [
    "# Mask Language Model"
   ]
  },
  {
   "cell_type": "code",
   "execution_count": 1,
   "metadata": {},
   "outputs": [],
   "source": [
    "import math\n",
    "import torch\n",
    "import torch.nn as nn\n",
    "import torch.nn.functional as F\n",
    "from dataset import BiLMDataset\n",
    "from vocab import Vocab\n",
    "    "
   ]
  },
  {
   "cell_type": "code",
   "execution_count": 2,
   "metadata": {},
   "outputs": [],
   "source": [
    "data_dir = \"ptb\"\n",
    "epochs = 10\n",
    "batch_length = 32\n",
    "batch_size = 16\n",
    "lr = 0.001\n",
    "\n",
    "n_layers = 1\n",
    "d_emb = 200\n",
    "d_hid = 250\n",
    "p_drop = 0.2\n",
    "\n",
    "interval_print = 100\n",
    "device = torch.device(\"cuda\" if torch.cuda.is_available() else \"cpu\")\n"
   ]
  },
  {
   "cell_type": "markdown",
   "metadata": {},
   "source": [
    "# Load Dataset\n"
   ]
  },
  {
   "cell_type": "code",
   "execution_count": 3,
   "metadata": {},
   "outputs": [
    {
     "name": "stdout",
     "output_type": "stream",
     "text": [
      "building vocab...\n"
     ]
    },
    {
     "name": "stderr",
     "output_type": "stream",
     "text": [
      "100%|██████████| 42068/42068 [00:00<00:00, 123316.88it/s]"
     ]
    },
    {
     "name": "stdout",
     "output_type": "stream",
     "text": [
      "[('the', 50770), ('<unk>', 45020), ('N', 32481), ('of', 24400), ('to', 23638), ('a', 21196), ('in', 18000), ('and', 17474), (\"'s\", 9784), ('that', 8931)]\n",
      "end building vocab ...\n",
      "['<mask>', '<pad>', '<eos>', 'the', '<unk>', 'N', 'of', 'to', 'a', 'in']\n"
     ]
    },
    {
     "name": "stderr",
     "output_type": "stream",
     "text": [
      "\n"
     ]
    }
   ],
   "source": [
    "vocab = Vocab(data_dir, mask_token='<mask>')\n",
    "trainset = BiLMDataset(data_dir, vocab, seq_len=batch_length, split='train')\n",
    "validset = BiLMDataset(data_dir, vocab, seq_len=batch_length, split='valid')\n",
    "trainloader = torch.utils.data.DataLoader(trainset, batch_size=batch_size)\n",
    "validloader = torch.utils.data.DataLoader(validset, batch_size=batch_size)\n"
   ]
  },
  {
   "cell_type": "markdown",
   "metadata": {},
   "source": [
    "# Model"
   ]
  },
  {
   "cell_type": "code",
   "execution_count": 4,
   "metadata": {},
   "outputs": [
    {
     "name": "stderr",
     "output_type": "stream",
     "text": [
      "/usr/local/lib/python3.8/site-packages/torch/nn/modules/rnn.py:62: UserWarning: dropout option adds dropout after all but last recurrent layer, so non-zero dropout expects num_layers greater than 1, but got dropout=0.2 and num_layers=1\n",
      "  warnings.warn(\"dropout option adds dropout after all but last \"\n"
     ]
    }
   ],
   "source": [
    "class WordEmbedding(nn.Module):\n",
    "    def __init__(self, num_embeddomgs, embedding_dim, p_drop=0.):\n",
    "        super(WordEmbedding, self).__init__()\n",
    "        self.emb = nn.Embedding(num_embeddomgs, embedding_dim)\n",
    "        self.dropout = nn.Dropout(p_drop)\n",
    "\n",
    "    def forward(self, input):\n",
    "        output = self.emb(input)\n",
    "        output = self.dropout(output)\n",
    "        return output         \n",
    "\n",
    "\n",
    "class BidirectionalLM(nn.Module):\n",
    "    def __init__(self, vocab_size, embedding_dim, hidden_dim, n_layers, p_drop):\n",
    "        super(BidirectionalLM, self).__init__()\n",
    "        self.n_classes = vocab_size\n",
    "        self.d_emb = embedding_dim\n",
    "        self.hidden_dim = hidden_dim\n",
    "\n",
    "\n",
    "        self.word_embedding = WordEmbedding(self.n_classes, self.d_emb, p_drop=p_drop)\n",
    "        # self.layers = nn.GRU(self.d_emb, hidden_dim, n_layers, dropout=p_drop, batch_first=True, bidirectional=True)\n",
    "        \n",
    "        self.forward_layers = nn.GRU(self.d_emb, hidden_dim, n_layers, dropout=p_drop, batch_first=True, bidirectional=False)\n",
    "        self.backward_layers = nn.GRU(self.d_emb, hidden_dim, n_layers, dropout=p_drop, batch_first=True, bidirectional=False)\n",
    "\n",
    "\n",
    "        self.proj_layer = nn.Linear(hidden_dim*2, self.n_classes)\n",
    "        \n",
    "        self.drop = nn.Dropout(p_drop)\n",
    "        # self.layer2 = nn.GRU(hidden_dim, self.n_classes)\n",
    "\n",
    "    def forward(self, input):\n",
    "        # print(vocab.decode_tokids(input[0, :-2]), \"@@\",vocab.decode_tokids(input[0, 2:]))\n",
    "        \n",
    "        emb = self.word_embedding(input)\n",
    "        # (bsz, len_step, h_dim)()\n",
    "        # output, h = self.layers(emb)\n",
    "        # forward_output, backward_output = output[:, :-2, :self.hidden_dim], output[:, 2:, self.hidden_dim:]\n",
    "        forward_output, _ = self.forward_layers(emb[:, :-2])\n",
    "        backward_output, _ = self.backward_layers(torch.flip(emb[:, 2:], dims =[-1]))\n",
    "        # print(torch.flip(backward_output, dims =[-1]).shape)\n",
    "        staggered_output = torch.cat((forward_output, torch.flip(backward_output, dims =[1])), dim=-1)\n",
    "        # print(output.shape, staggered_output.shape)\n",
    "        output = self.drop(staggered_output)\n",
    "        # print(output.shape)\n",
    "\n",
    "        output = self.proj_layer(output)\n",
    "        return output\n",
    "\n",
    "model = BidirectionalLM(vocab_size=vocab.size, embedding_dim=d_emb, hidden_dim=d_hid, n_layers=n_layers, p_drop=p_drop)\n",
    "model.to(device)\n",
    "optimizer = torch.optim.AdamW(model.parameters(),\n",
    "                  lr = lr, # config.learning_rate - default is 5e-5, our notebook had 2e-5\n",
    "                  eps = 1e-8 # config.adam_epsilon  - default is 1e-8.\n",
    "                  )\n"
   ]
  },
  {
   "cell_type": "code",
   "execution_count": 5,
   "metadata": {},
   "outputs": [
    {
     "name": "stdout",
     "output_type": "stream",
     "text": [
      "[0/10] epochs training...\n",
      "n_iter:100 loss: 7.110 ppl: 1224.428\n",
      "n_iter:200 loss: 6.457 ppl: 637.413\n",
      "n_iter:300 loss: 6.034 ppl: 417.216\n",
      "n_iter:400 loss: 6.049 ppl: 423.523\n",
      "n_iter:500 loss: 5.743 ppl: 312.003\n",
      "n_iter:600 loss: 5.845 ppl: 345.578\n",
      "n_iter:700 loss: 5.684 ppl: 294.008\n",
      "n_iter:800 loss: 5.543 ppl: 255.538\n",
      "n_iter:900 loss: 5.465 ppl: 236.335\n",
      "n_iter:1000 loss: 5.495 ppl: 243.414\n",
      "n_iter:1100 loss: 5.347 ppl: 210.034\n",
      "n_iter:1200 loss: 5.262 ppl: 192.863\n",
      "n_iter:1300 loss: 5.194 ppl: 180.165\n",
      "n_iter:1400 loss: 5.155 ppl: 173.235\n",
      "n_iter:1500 loss: 5.106 ppl: 164.936\n",
      "n_iter:1600 loss: 4.942 ppl: 139.991\n",
      "n_iter:1700 loss: 5.068 ppl: 158.832\n",
      "n_iter:1800 loss: 5.022 ppl: 151.642\n",
      "n_iter:1900 loss: 4.968 ppl: 143.720\n",
      "n_iter:2000 loss: 5.123 ppl: 167.882\n",
      "n_iter:2100 loss: 4.837 ppl: 126.105\n",
      "n_iter:2200 loss: 4.851 ppl: 127.893\n",
      "n_iter:2300 loss: 4.908 ppl: 135.349\n",
      "n_iter:2400 loss: 4.745 ppl: 114.962\n",
      "n_iter:2500 loss: 4.708 ppl: 110.790\n",
      "n_iter:2600 loss: 4.809 ppl: 122.606\n",
      "### find best mode ### 94.90175985962786\n",
      "validation vloss: 4.553 vppl: 94.902, best ppl: 94.902\n",
      "[1/10] epochs training...\n",
      "n_iter:2700 loss: 4.774 ppl: 118.419\n",
      "n_iter:2800 loss: 4.789 ppl: 120.214\n",
      "n_iter:2900 loss: 4.319 ppl: 75.085\n",
      "n_iter:3000 loss: 4.672 ppl: 106.915\n",
      "n_iter:3100 loss: 4.307 ppl: 74.229\n",
      "n_iter:3200 loss: 4.624 ppl: 101.896\n",
      "n_iter:3300 loss: 4.498 ppl: 89.828\n",
      "n_iter:3400 loss: 4.448 ppl: 85.432\n",
      "n_iter:3500 loss: 4.249 ppl: 70.059\n",
      "n_iter:3600 loss: 4.557 ppl: 95.318\n",
      "n_iter:3700 loss: 4.335 ppl: 76.305\n",
      "n_iter:3800 loss: 4.341 ppl: 76.773\n",
      "n_iter:3900 loss: 4.227 ppl: 68.498\n",
      "n_iter:4000 loss: 4.235 ppl: 69.078\n",
      "n_iter:4100 loss: 4.039 ppl: 56.794\n",
      "n_iter:4200 loss: 4.224 ppl: 68.324\n",
      "n_iter:4300 loss: 4.100 ppl: 60.346\n",
      "n_iter:4400 loss: 4.277 ppl: 71.999\n",
      "n_iter:4500 loss: 4.090 ppl: 59.720\n",
      "n_iter:4600 loss: 4.357 ppl: 78.000\n",
      "n_iter:4700 loss: 4.181 ppl: 65.464\n",
      "n_iter:4800 loss: 4.149 ppl: 63.400\n",
      "n_iter:4900 loss: 3.983 ppl: 53.678\n",
      "n_iter:5000 loss: 4.122 ppl: 61.669\n",
      "n_iter:5100 loss: 3.988 ppl: 53.963\n",
      "n_iter:5200 loss: 3.967 ppl: 52.838\n",
      "### find best mode ### 63.12942558817689\n",
      "validation vloss: 4.145 vppl: 63.129, best ppl: 63.129\n",
      "[2/10] epochs training...\n",
      "n_iter:5300 loss: 4.114 ppl: 61.162\n",
      "n_iter:5400 loss: 4.151 ppl: 63.512\n",
      "n_iter:5500 loss: 3.872 ppl: 48.026\n",
      "n_iter:5600 loss: 3.943 ppl: 51.571\n",
      "n_iter:5700 loss: 3.874 ppl: 48.112\n",
      "n_iter:5800 loss: 3.973 ppl: 53.132\n",
      "n_iter:5900 loss: 3.911 ppl: 49.965\n",
      "n_iter:6000 loss: 3.970 ppl: 52.959\n",
      "n_iter:6100 loss: 3.831 ppl: 46.108\n",
      "n_iter:6200 loss: 3.929 ppl: 50.879\n",
      "n_iter:6300 loss: 3.807 ppl: 45.009\n",
      "n_iter:6400 loss: 3.968 ppl: 52.882\n",
      "n_iter:6500 loss: 3.672 ppl: 39.349\n",
      "n_iter:6600 loss: 3.760 ppl: 42.941\n",
      "n_iter:6700 loss: 3.557 ppl: 35.067\n",
      "n_iter:6800 loss: 3.813 ppl: 45.266\n",
      "n_iter:6900 loss: 3.499 ppl: 33.067\n",
      "n_iter:7000 loss: 3.907 ppl: 49.729\n",
      "n_iter:7100 loss: 3.660 ppl: 38.850\n",
      "n_iter:7200 loss: 3.841 ppl: 46.555\n",
      "n_iter:7300 loss: 3.780 ppl: 43.807\n",
      "n_iter:7400 loss: 3.716 ppl: 41.081\n",
      "n_iter:7500 loss: 3.451 ppl: 31.543\n",
      "n_iter:7600 loss: 3.818 ppl: 45.499\n",
      "n_iter:7700 loss: 3.562 ppl: 35.229\n"
     ]
    },
    {
     "ename": "KeyboardInterrupt",
     "evalue": "",
     "output_type": "error",
     "traceback": [
      "\u001b[0;31m---------------------------------------------------------------------------\u001b[0m",
      "\u001b[0;31mKeyboardInterrupt\u001b[0m                         Traceback (most recent call last)",
      "\u001b[0;32m<ipython-input-5-e74c1d9402b1>\u001b[0m in \u001b[0;36m<module>\u001b[0;34m\u001b[0m\n\u001b[1;32m     16\u001b[0m \u001b[0;34m\u001b[0m\u001b[0m\n\u001b[1;32m     17\u001b[0m         \u001b[0moptimizer\u001b[0m\u001b[0;34m.\u001b[0m\u001b[0mzero_grad\u001b[0m\u001b[0;34m(\u001b[0m\u001b[0;34m)\u001b[0m\u001b[0;34m\u001b[0m\u001b[0;34m\u001b[0m\u001b[0m\n\u001b[0;32m---> 18\u001b[0;31m         \u001b[0mloss\u001b[0m\u001b[0;34m.\u001b[0m\u001b[0mbackward\u001b[0m\u001b[0;34m(\u001b[0m\u001b[0;34m)\u001b[0m\u001b[0;34m\u001b[0m\u001b[0;34m\u001b[0m\u001b[0m\n\u001b[0m\u001b[1;32m     19\u001b[0m         \u001b[0moptimizer\u001b[0m\u001b[0;34m.\u001b[0m\u001b[0mstep\u001b[0m\u001b[0;34m(\u001b[0m\u001b[0;34m)\u001b[0m\u001b[0;34m\u001b[0m\u001b[0;34m\u001b[0m\u001b[0m\n\u001b[1;32m     20\u001b[0m         \u001b[0mtrain_loss\u001b[0m \u001b[0;34m+=\u001b[0m \u001b[0mloss\u001b[0m\u001b[0;34m.\u001b[0m\u001b[0mitem\u001b[0m\u001b[0;34m(\u001b[0m\u001b[0;34m)\u001b[0m\u001b[0;34m\u001b[0m\u001b[0;34m\u001b[0m\u001b[0m\n",
      "\u001b[0;32m/usr/local/lib/python3.8/site-packages/torch/_tensor.py\u001b[0m in \u001b[0;36mbackward\u001b[0;34m(self, gradient, retain_graph, create_graph, inputs)\u001b[0m\n\u001b[1;32m    253\u001b[0m                 \u001b[0mcreate_graph\u001b[0m\u001b[0;34m=\u001b[0m\u001b[0mcreate_graph\u001b[0m\u001b[0;34m,\u001b[0m\u001b[0;34m\u001b[0m\u001b[0;34m\u001b[0m\u001b[0m\n\u001b[1;32m    254\u001b[0m                 inputs=inputs)\n\u001b[0;32m--> 255\u001b[0;31m         \u001b[0mtorch\u001b[0m\u001b[0;34m.\u001b[0m\u001b[0mautograd\u001b[0m\u001b[0;34m.\u001b[0m\u001b[0mbackward\u001b[0m\u001b[0;34m(\u001b[0m\u001b[0mself\u001b[0m\u001b[0;34m,\u001b[0m \u001b[0mgradient\u001b[0m\u001b[0;34m,\u001b[0m \u001b[0mretain_graph\u001b[0m\u001b[0;34m,\u001b[0m \u001b[0mcreate_graph\u001b[0m\u001b[0;34m,\u001b[0m \u001b[0minputs\u001b[0m\u001b[0;34m=\u001b[0m\u001b[0minputs\u001b[0m\u001b[0;34m)\u001b[0m\u001b[0;34m\u001b[0m\u001b[0;34m\u001b[0m\u001b[0m\n\u001b[0m\u001b[1;32m    256\u001b[0m \u001b[0;34m\u001b[0m\u001b[0m\n\u001b[1;32m    257\u001b[0m     \u001b[0;32mdef\u001b[0m \u001b[0mregister_hook\u001b[0m\u001b[0;34m(\u001b[0m\u001b[0mself\u001b[0m\u001b[0;34m,\u001b[0m \u001b[0mhook\u001b[0m\u001b[0;34m)\u001b[0m\u001b[0;34m:\u001b[0m\u001b[0;34m\u001b[0m\u001b[0;34m\u001b[0m\u001b[0m\n",
      "\u001b[0;32m/usr/local/lib/python3.8/site-packages/torch/autograd/__init__.py\u001b[0m in \u001b[0;36mbackward\u001b[0;34m(tensors, grad_tensors, retain_graph, create_graph, grad_variables, inputs)\u001b[0m\n\u001b[1;32m    145\u001b[0m         \u001b[0mretain_graph\u001b[0m \u001b[0;34m=\u001b[0m \u001b[0mcreate_graph\u001b[0m\u001b[0;34m\u001b[0m\u001b[0;34m\u001b[0m\u001b[0m\n\u001b[1;32m    146\u001b[0m \u001b[0;34m\u001b[0m\u001b[0m\n\u001b[0;32m--> 147\u001b[0;31m     Variable._execution_engine.run_backward(\n\u001b[0m\u001b[1;32m    148\u001b[0m         \u001b[0mtensors\u001b[0m\u001b[0;34m,\u001b[0m \u001b[0mgrad_tensors_\u001b[0m\u001b[0;34m,\u001b[0m \u001b[0mretain_graph\u001b[0m\u001b[0;34m,\u001b[0m \u001b[0mcreate_graph\u001b[0m\u001b[0;34m,\u001b[0m \u001b[0minputs\u001b[0m\u001b[0;34m,\u001b[0m\u001b[0;34m\u001b[0m\u001b[0;34m\u001b[0m\u001b[0m\n\u001b[1;32m    149\u001b[0m         allow_unreachable=True, accumulate_grad=True)  # allow_unreachable flag\n",
      "\u001b[0;31mKeyboardInterrupt\u001b[0m: "
     ]
    }
   ],
   "source": [
    "\n",
    "n_iter, train_loss, best_ppl = 0, 0., float('inf')\n",
    "for ep in range(epochs):\n",
    "    print(f\"[{ep}/{epochs}] epochs training...\")\n",
    "    \n",
    "    # train\n",
    "    model.train()\n",
    "    for batch in trainloader:\n",
    "        n_iter += 1\n",
    "        batch = batch.to(device)\n",
    "        # print(mlm_train[0], vocab.padding_idx)\n",
    "        target = batch[:, 1:-1].contiguous().to(device)\n",
    "        # print(mlm_train.size(), vocab.decode_tokids(mlm_target[0]))\n",
    "        logits = model(batch)\n",
    "        # print(logits.shape, mlm_target.shape)\n",
    "        loss = F.cross_entropy(logits.reshape(-1, vocab.size), target.reshape(-1), ignore_index=vocab.padding_idx)\n",
    "        \n",
    "        optimizer.zero_grad()\n",
    "        loss.backward()\n",
    "        optimizer.step()\n",
    "        train_loss += loss.item()\n",
    "\n",
    "        if n_iter % interval_print == 0:\n",
    "            train_loss /= interval_print\n",
    "            train_ppl = math.exp(train_loss)\n",
    "            print(f\"n_iter:{n_iter} loss: {train_loss:0.3f} ppl: {train_ppl:0.3f}\")\n",
    "            train_loss = 0\n",
    "            \n",
    "    \n",
    "    model.eval()\n",
    "    valid_loss = 0.\n",
    "    for batch in validloader:\n",
    "        batch = batch.to(device)\n",
    "        target = batch[:, 1:-1].contiguous().to(device)\n",
    "        \n",
    "        # mlm_target = mlm_target.to(device)\n",
    "\n",
    "        with torch.no_grad():\n",
    "\n",
    "            logits = model(batch)\n",
    "            loss = F.cross_entropy(logits.reshape(-1, vocab.size), target.reshape(-1), ignore_index=vocab.padding_idx)\n",
    "            valid_loss += loss.item()\n",
    "            \n",
    "        \n",
    "    valid_loss = valid_loss/len(validloader)\n",
    "    valid_ppl = math.exp(valid_loss)\n",
    "        \n",
    "\n",
    "    if valid_ppl < best_ppl:\n",
    "        best_ppl = valid_ppl\n",
    "        torch.save(model, \"mlm-best.pth\")\n",
    "        print(\"### find best mode ###\", best_ppl)\n",
    "\n",
    "    print(f\"validation vloss: {valid_loss:0.3f} vppl: {valid_ppl:0.3f}, best ppl: {best_ppl:0.3f}\")\n",
    "\n",
    "\n",
    "   \n",
    "\n"
   ]
  },
  {
   "cell_type": "code",
   "execution_count": 11,
   "metadata": {},
   "outputs": [
    {
     "name": "stdout",
     "output_type": "stream",
     "text": [
      "(tensor([0], device='cuda:0'), tensor([1], device='cuda:0'))\n",
      "tensor([[  2,   0, 113, 108, 124,   3]], device='cuda:0') (tensor([0], device='cuda:0'), tensor([1], device='cuda:0'))\n",
      "0th 'predicted word (prob.)': you (0.087)\n",
      "0th 'complete sentence': you you so much\n",
      "1th 'predicted word (prob.)': officials (0.034)\n",
      "1th 'complete sentence': officials you so much\n",
      "2th 'predicted word (prob.)': is (0.028)\n",
      "2th 'complete sentence': is you so much\n",
      "3th 'predicted word (prob.)': so (0.026)\n",
      "3th 'complete sentence': so you so much\n",
      "4th 'predicted word (prob.)': of (0.025)\n",
      "4th 'complete sentence': of you so much\n"
     ]
    }
   ],
   "source": [
    "# input_text = \"the u.s. is one of the few <mask> nations that does n't have a higher standard of regulation\"\n",
    "# input_text = \"viewers can call a N number for additional advice\"\n",
    "input_text = \"i <mask> you so much\"\n",
    "k = 5\n",
    "model.eval()\n",
    "mask_ind = input_text.split(\" \").index(\"<mask>\") -1 \n",
    "# mask_ind = 1\n",
    "\n",
    "mask_input = torch.tensor([vocab.encode_line(input_text, add_eos=True)]).to(device)\n",
    "# mask_ind = torch.where(mask_input==vocab.mask_idx)\n",
    "print(mask_ind)\n",
    "mask_ind = torch.tensor([mask_ind]).to(device)\n",
    "\n",
    "# masked_input, masked_labels = trainset.get_masked_input_and_labels(seq)\n",
    "\n",
    "logits = F.softmax(model(mask_input), dim=-1)[:, mask_ind]\n",
    "top_k = torch.topk(logits, k)\n",
    "\n",
    "top_k_words = top_k.indices.flatten()\n",
    "top_k_probs = top_k.values.flatten()\n",
    "for i, (w, p) in enumerate(zip(top_k_words, top_k_probs)):\n",
    "    print(f\"{i}th 'predicted word (prob.)': {vocab.id2tok[w]} ({p:0.3f})\")\n",
    "    print(f\"{i}th 'complete sentence': {input_text.replace('<mask>', vocab.id2tok[w])}\"  )"
   ]
  },
  {
   "cell_type": "code",
   "execution_count": null,
   "metadata": {},
   "outputs": [],
   "source": []
  },
  {
   "cell_type": "code",
   "execution_count": null,
   "metadata": {},
   "outputs": [],
   "source": []
  }
 ],
 "metadata": {
  "interpreter": {
   "hash": "e235b1f40ab561dc697a518ea04835f082f50dd8c1dee948e78ceb42cbdb5e37"
  },
  "kernelspec": {
   "display_name": "Python 3.9.7 ('base')",
   "language": "python",
   "name": "python3"
  },
  "language_info": {
   "codemirror_mode": {
    "name": "ipython",
    "version": 3
   },
   "file_extension": ".py",
   "mimetype": "text/x-python",
   "name": "python",
   "nbconvert_exporter": "python",
   "pygments_lexer": "ipython3",
   "version": "3.8.0"
  },
  "orig_nbformat": 4
 },
 "nbformat": 4,
 "nbformat_minor": 2
}
