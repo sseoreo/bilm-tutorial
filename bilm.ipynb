{
 "cells": [
  {
   "cell_type": "markdown",
   "metadata": {},
   "source": [
    "# Mask Language Model"
   ]
  },
  {
   "cell_type": "code",
   "execution_count": 1,
   "metadata": {},
   "outputs": [],
   "source": [
    "import math\n",
    "import torch\n",
    "import torch.nn as nn\n",
    "import torch.nn.functional as F\n",
    "from dataset import BiLMDataset\n",
    "from vocab import Vocab\n",
    "    "
   ]
  },
  {
   "cell_type": "code",
   "execution_count": 2,
   "metadata": {},
   "outputs": [],
   "source": [
    "data_dir = \"ptb\"\n",
    "epochs = 10\n",
    "batch_length = 32\n",
    "batch_size = 16\n",
    "lr = 0.001\n",
    "\n",
    "n_layers = 1\n",
    "d_emb = 200\n",
    "d_hid = 250\n",
    "p_drop = 0.2\n",
    "\n",
    "interval_print = 100\n",
    "device = torch.device(\"cuda\" if torch.cuda.is_available() else \"cpu\")\n"
   ]
  },
  {
   "cell_type": "markdown",
   "metadata": {},
   "source": [
    "# Load Dataset\n"
   ]
  },
  {
   "cell_type": "code",
   "execution_count": 3,
   "metadata": {},
   "outputs": [
    {
     "name": "stdout",
     "output_type": "stream",
     "text": [
      "building vocab...\n"
     ]
    },
    {
     "name": "stderr",
     "output_type": "stream",
     "text": [
      "100%|██████████| 42068/42068 [00:00<00:00, 122011.69it/s]"
     ]
    },
    {
     "name": "stdout",
     "output_type": "stream",
     "text": [
      "[('the', 50770), ('<unk>', 45020), ('N', 32481), ('of', 24400), ('to', 23638), ('a', 21196), ('in', 18000), ('and', 17474), (\"'s\", 9784), ('that', 8931)]\n",
      "end building vocab ...\n",
      "['<mask>', '<pad>', '<eos>', 'the', '<unk>', 'N', 'of', 'to', 'a', 'in']\n"
     ]
    },
    {
     "name": "stderr",
     "output_type": "stream",
     "text": [
      "\n"
     ]
    }
   ],
   "source": [
    "vocab = Vocab(data_dir, mask_token='<mask>')\n",
    "trainset = BiLMDataset(data_dir, vocab, seq_len=batch_length, split='train')\n",
    "validset = BiLMDataset(data_dir, vocab, seq_len=batch_length, split='valid')\n",
    "trainloader = torch.utils.data.DataLoader(trainset, batch_size=batch_size)\n",
    "validloader = torch.utils.data.DataLoader(validset, batch_size=batch_size)\n"
   ]
  },
  {
   "cell_type": "markdown",
   "metadata": {},
   "source": [
    "# Model"
   ]
  },
  {
   "cell_type": "code",
   "execution_count": 4,
   "metadata": {},
   "outputs": [
    {
     "name": "stderr",
     "output_type": "stream",
     "text": [
      "/usr/local/lib/python3.8/site-packages/torch/nn/modules/rnn.py:62: UserWarning: dropout option adds dropout after all but last recurrent layer, so non-zero dropout expects num_layers greater than 1, but got dropout=0.2 and num_layers=1\n",
      "  warnings.warn(\"dropout option adds dropout after all but last \"\n"
     ]
    }
   ],
   "source": [
    "class WordEmbedding(nn.Module):\n",
    "    def __init__(self, num_embeddomgs, embedding_dim, p_drop=0.):\n",
    "        super(WordEmbedding, self).__init__()\n",
    "        self.emb = nn.Embedding(num_embeddomgs, embedding_dim)\n",
    "        self.dropout = nn.Dropout(p_drop)\n",
    "\n",
    "    def forward(self, input):\n",
    "        output = self.emb(input)\n",
    "        output = self.dropout(output)\n",
    "        return output         \n",
    "\n",
    "\n",
    "class BidirectionalLM(nn.Module):\n",
    "    def __init__(self, vocab_size, embedding_dim, hidden_dim, n_layers, p_drop):\n",
    "        super(BidirectionalLM, self).__init__()\n",
    "        self.n_classes = vocab_size\n",
    "        self.d_emb = embedding_dim\n",
    "        self.hidden_dim = hidden_dim\n",
    "\n",
    "\n",
    "        self.word_embedding = WordEmbedding(self.n_classes, self.d_emb, p_drop=p_drop)\n",
    "        # self.layers = nn.GRU(self.d_emb, hidden_dim, n_layers, dropout=p_drop, batch_first=True, bidirectional=True)\n",
    "        \n",
    "        self.forward_layers = nn.GRU(self.d_emb, hidden_dim, n_layers, dropout=p_drop, batch_first=True, bidirectional=False)\n",
    "        self.backward_layers = nn.GRU(self.d_emb, hidden_dim, n_layers, dropout=p_drop, batch_first=True, bidirectional=False)\n",
    "\n",
    "\n",
    "        self.proj_layer = nn.Linear(hidden_dim*2, self.n_classes)\n",
    "        \n",
    "        self.drop = nn.Dropout(p_drop)\n",
    "        # self.layer2 = nn.GRU(hidden_dim, self.n_classes)\n",
    "\n",
    "    def forward(self, input):\n",
    "        # print(vocab.decode_tokids(input[0, :-2]), \"@@\",vocab.decode_tokids(input[0, 2:]))\n",
    "        \n",
    "        emb = self.word_embedding(input)\n",
    "        # (bsz, len_step, h_dim)()\n",
    "        # output, h = self.layers(emb)\n",
    "        # forward_output, backward_output = output[:, :-2, :self.hidden_dim], output[:, 2:, self.hidden_dim:]\n",
    "        forward_output, _ = self.forward_layers(emb[:, :-2])\n",
    "        backward_output, _ = self.backward_layers(torch.flip(emb[:, 2:], dims =[-1]))\n",
    "        # print(torch.flip(backward_output, dims =[-1]).shape)\n",
    "        staggered_output = torch.cat((forward_output, torch.flip(backward_output, dims =[1])), dim=-1)\n",
    "        # print(output.shape, staggered_output.shape)\n",
    "        output = self.drop(staggered_output)\n",
    "        # print(output.shape)\n",
    "\n",
    "        output = self.proj_layer(output)\n",
    "        return output\n",
    "\n",
    "model = BidirectionalLM(vocab_size=vocab.size, embedding_dim=d_emb, hidden_dim=d_hid, n_layers=n_layers, p_drop=p_drop)\n",
    "model.to(device)\n",
    "optimizer = torch.optim.AdamW(model.parameters(),\n",
    "                  lr = lr, # config.learning_rate - default is 5e-5, our notebook had 2e-5\n",
    "                  eps = 1e-8 # config.adam_epsilon  - default is 1e-8.\n",
    "                  )\n"
   ]
  },
  {
   "cell_type": "code",
   "execution_count": 5,
   "metadata": {},
   "outputs": [
    {
     "name": "stdout",
     "output_type": "stream",
     "text": [
      "[0/10] epochs training...\n",
      "n_iter:100 loss: 7.108 ppl: 1221.937\n",
      "n_iter:200 loss: 6.451 ppl: 633.621\n",
      "n_iter:300 loss: 6.034 ppl: 417.282\n",
      "n_iter:400 loss: 6.056 ppl: 426.669\n"
     ]
    },
    {
     "ename": "KeyboardInterrupt",
     "evalue": "",
     "output_type": "error",
     "traceback": [
      "\u001b[0;31m---------------------------------------------------------------------------\u001b[0m",
      "\u001b[0;31mKeyboardInterrupt\u001b[0m                         Traceback (most recent call last)",
      "\u001b[0;32m<ipython-input-5-e74c1d9402b1>\u001b[0m in \u001b[0;36m<module>\u001b[0;34m\u001b[0m\n\u001b[1;32m     18\u001b[0m         \u001b[0mloss\u001b[0m\u001b[0;34m.\u001b[0m\u001b[0mbackward\u001b[0m\u001b[0;34m(\u001b[0m\u001b[0;34m)\u001b[0m\u001b[0;34m\u001b[0m\u001b[0;34m\u001b[0m\u001b[0m\n\u001b[1;32m     19\u001b[0m         \u001b[0moptimizer\u001b[0m\u001b[0;34m.\u001b[0m\u001b[0mstep\u001b[0m\u001b[0;34m(\u001b[0m\u001b[0;34m)\u001b[0m\u001b[0;34m\u001b[0m\u001b[0;34m\u001b[0m\u001b[0m\n\u001b[0;32m---> 20\u001b[0;31m         \u001b[0mtrain_loss\u001b[0m \u001b[0;34m+=\u001b[0m \u001b[0mloss\u001b[0m\u001b[0;34m.\u001b[0m\u001b[0mitem\u001b[0m\u001b[0;34m(\u001b[0m\u001b[0;34m)\u001b[0m\u001b[0;34m\u001b[0m\u001b[0;34m\u001b[0m\u001b[0m\n\u001b[0m\u001b[1;32m     21\u001b[0m \u001b[0;34m\u001b[0m\u001b[0m\n\u001b[1;32m     22\u001b[0m         \u001b[0;32mif\u001b[0m \u001b[0mn_iter\u001b[0m \u001b[0;34m%\u001b[0m \u001b[0minterval_print\u001b[0m \u001b[0;34m==\u001b[0m \u001b[0;36m0\u001b[0m\u001b[0;34m:\u001b[0m\u001b[0;34m\u001b[0m\u001b[0;34m\u001b[0m\u001b[0m\n",
      "\u001b[0;31mKeyboardInterrupt\u001b[0m: "
     ]
    }
   ],
   "source": [
    "\n",
    "n_iter, train_loss, best_ppl = 0, 0., float('inf')\n",
    "for ep in range(epochs):\n",
    "    print(f\"[{ep}/{epochs}] epochs training...\")\n",
    "    \n",
    "    # train\n",
    "    model.train()\n",
    "    for batch in trainloader:\n",
    "        n_iter += 1\n",
    "        batch = batch.to(device)\n",
    "        # print(mlm_train[0], vocab.padding_idx)\n",
    "        target = batch[:, 1:-1].contiguous().to(device)\n",
    "        # print(mlm_train.size(), vocab.decode_tokids(mlm_target[0]))\n",
    "        logits = model(batch)\n",
    "        # print(logits.shape, mlm_target.shape)\n",
    "        loss = F.cross_entropy(logits.reshape(-1, vocab.size), target.reshape(-1), ignore_index=vocab.padding_idx)\n",
    "        \n",
    "        optimizer.zero_grad()\n",
    "        loss.backward()\n",
    "        optimizer.step()\n",
    "        train_loss += loss.item()\n",
    "\n",
    "        if n_iter % interval_print == 0:\n",
    "            train_loss /= interval_print\n",
    "            train_ppl = math.exp(train_loss)\n",
    "            print(f\"n_iter:{n_iter} loss: {train_loss:0.3f} ppl: {train_ppl:0.3f}\")\n",
    "            train_loss = 0\n",
    "            \n",
    "    \n",
    "    model.eval()\n",
    "    valid_loss = 0.\n",
    "    for batch in validloader:\n",
    "        batch = batch.to(device)\n",
    "        target = batch[:, 1:-1].contiguous().to(device)\n",
    "        \n",
    "        # mlm_target = mlm_target.to(device)\n",
    "\n",
    "        with torch.no_grad():\n",
    "\n",
    "            logits = model(batch)\n",
    "            loss = F.cross_entropy(logits.reshape(-1, vocab.size), target.reshape(-1), ignore_index=vocab.padding_idx)\n",
    "            valid_loss += loss.item()\n",
    "            \n",
    "        \n",
    "    valid_loss = valid_loss/len(validloader)\n",
    "    valid_ppl = math.exp(valid_loss)\n",
    "        \n",
    "\n",
    "    if valid_ppl < best_ppl:\n",
    "        best_ppl = valid_ppl\n",
    "        torch.save(model, \"mlm-best.pth\")\n",
    "        print(\"### find best mode ###\", best_ppl)\n",
    "\n",
    "    print(f\"validation vloss: {valid_loss:0.3f} vppl: {valid_ppl:0.3f}, best ppl: {best_ppl:0.3f}\")\n",
    "\n",
    "\n",
    "   \n",
    "\n"
   ]
  },
  {
   "cell_type": "code",
   "execution_count": 19,
   "metadata": {},
   "outputs": [
    {
     "name": "stdout",
     "output_type": "stream",
     "text": [
      "1\n",
      "0th 'predicted word (prob.)': be (0.058)\n",
      "0th 'complete sentence': viewers can <be> a N number for additional advice\n",
      "1th 'predicted word (prob.)': a (0.029)\n",
      "1th 'complete sentence': viewers can <a> a N number for additional advice\n",
      "2th 'predicted word (prob.)': N (0.015)\n",
      "2th 'complete sentence': viewers can <N> a N number for additional advice\n",
      "3th 'predicted word (prob.)': $ (0.008)\n",
      "3th 'complete sentence': viewers can <$> a N number for additional advice\n",
      "4th 'predicted word (prob.)': for (0.005)\n",
      "4th 'complete sentence': viewers can <for> a N number for additional advice\n"
     ]
    }
   ],
   "source": [
    "# input_text = \"the u.s. is one of the few <mask> that does n't have a higher standard of regulation\"\n",
    "input_text = \"viewers can <mask> a N number for additional advice\"\n",
    "# input_text = \"he likes me and you <mask> so much\"\n",
    "k = 5\n",
    "model = torch.load(\"mlm-best.pth\")\n",
    "\n",
    "model.eval()\n",
    "mask_ind = input_text.split(\" \").index(\"<mask>\") -1 \n",
    "# mask_ind = 1\n",
    "\n",
    "mask_input = torch.tensor([vocab.encode_line(input_text, add_eos=True)]).to(device)\n",
    "# mask_ind = torch.where(mask_input==vocab.mask_idx)\n",
    "print(mask_ind)\n",
    "mask_ind = torch.tensor([mask_ind]).to(device)\n",
    "\n",
    "# masked_input, masked_labels = trainset.get_masked_input_and_labels(seq)\n",
    "\n",
    "logits = F.softmax(model(mask_input), dim=-1)[:, mask_ind]\n",
    "top_k = torch.topk(logits, k)\n",
    "\n",
    "top_k_words = top_k.indices.flatten()\n",
    "top_k_probs = top_k.values.flatten()\n",
    "for i, (w, p) in enumerate(zip(top_k_words, top_k_probs)):\n",
    "    print(f\"{i}th 'predicted word (prob.)': {vocab.id2tok[w]} ({p:0.3f})\")\n",
    "    print(f\"{i}th 'complete sentence': {input_text.replace('mask', vocab.id2tok[w])}\"  )"
   ]
  },
  {
   "cell_type": "code",
   "execution_count": null,
   "metadata": {},
   "outputs": [],
   "source": []
  },
  {
   "cell_type": "code",
   "execution_count": null,
   "metadata": {},
   "outputs": [],
   "source": []
  }
 ],
 "metadata": {
  "interpreter": {
   "hash": "e235b1f40ab561dc697a518ea04835f082f50dd8c1dee948e78ceb42cbdb5e37"
  },
  "kernelspec": {
   "display_name": "Python 3.9.7 ('base')",
   "language": "python",
   "name": "python3"
  },
  "language_info": {
   "codemirror_mode": {
    "name": "ipython",
    "version": 3
   },
   "file_extension": ".py",
   "mimetype": "text/x-python",
   "name": "python",
   "nbconvert_exporter": "python",
   "pygments_lexer": "ipython3",
   "version": "3.8.0"
  },
  "orig_nbformat": 4
 },
 "nbformat": 4,
 "nbformat_minor": 2
}
